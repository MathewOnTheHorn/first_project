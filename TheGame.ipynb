{
 "cells": [
  {
   "cell_type": "code",
   "execution_count": null,
   "metadata": {},
   "outputs": [],
   "source": [
    "#This is a 5 letter word guessing game. Max 5 tries, feedback is given."
   ]
  },
  {
   "cell_type": "code",
   "execution_count": 23,
   "metadata": {
    "tags": []
   },
   "outputs": [
    {
     "name": "stdout",
     "output_type": "stream",
     "text": [
      "Welcome to 5-Alive! Can you guess the word before your chances run out? \n",
      "You will get 5 chances to guess the word. \n",
      "I'll let you know when you get a letter right, or a letter from the word but in the wrong location.\n"
     ]
    }
   ],
   "source": [
    "game_title = \"5-Alive\"\n",
    "import random\n",
    "\n",
    "word_bank=[]\n",
    "\n",
    "with open('words.txt') as word_source:\n",
    "       for line in word_source:\n",
    "            word_bank.append(line.rstrip().lower())\n",
    "            \n",
    "#Choose a random word for the game\n",
    "word_choice = random.choice(word_bank)\n",
    "\n",
    "#Variables we need to track\n",
    "wrong_location = []\n",
    "wrong_letter = []\n",
    "turns_max = 5\n",
    "turns_taken = 0\n",
    "\n",
    "#Welcome Message and game decription.\n",
    "print('Welcome to 5-Alive! Can you guess the word before your chances run out? \\nYou will get 5 chances to guess the word. \\nI\\'ll let you know when you get a letter right, or a letter from the word but in the wrong location.')"
   ]
  },
  {
   "cell_type": "code",
   "execution_count": 24,
   "metadata": {},
   "outputs": [
    {
     "name": "stdin",
     "output_type": "stream",
     "text": [
      "Time to choose. fires\n"
     ]
    },
    {
     "name": "stdout",
     "output_type": "stream",
     "text": [
      "_ i _ _ s \n",
      "\n",
      "Incorrect Location:  []\n",
      "Incorrect Letters:  ['f', 'r', 'e']\n",
      "You have 4 turns left.\n"
     ]
    },
    {
     "name": "stdin",
     "output_type": "stream",
     "text": [
      "Time to choose. mines\n"
     ]
    },
    {
     "name": "stdout",
     "output_type": "stream",
     "text": [
      "_ i n _ s \n",
      "\n",
      "Incorrect Location:  []\n",
      "Incorrect Letters:  ['f', 'r', 'e', 'm', 'e']\n",
      "You have 3 turns left.\n"
     ]
    },
    {
     "name": "stdin",
     "output_type": "stream",
     "text": [
      "Time to choose. pines\n"
     ]
    },
    {
     "name": "stdout",
     "output_type": "stream",
     "text": [
      "_ i n _ s \n",
      "\n",
      "Incorrect Location:  []\n",
      "Incorrect Letters:  ['f', 'r', 'e', 'm', 'e', 'p', 'e']\n",
      "You have 2 turns left.\n"
     ]
    },
    {
     "name": "stdin",
     "output_type": "stream",
     "text": [
      "Time to choose. kings\n"
     ]
    },
    {
     "name": "stdout",
     "output_type": "stream",
     "text": [
      "k i n g s \n",
      "\n",
      "Incorrect Location:  []\n",
      "Incorrect Letters:  ['f', 'r', 'e', 'm', 'e', 'p', 'e']\n",
      "You have 1 turns left.\n",
      "YOU ARE THE WINNER!\n"
     ]
    }
   ],
   "source": [
    "#The Game Loop\n",
    "\n",
    "while turns_taken < turns_max:\n",
    "    user_guess = input(\"Time to choose.\")\n",
    "    user_guess = user_guess.lower()\n",
    "    if len(user_guess) == 5 :\n",
    "        if user_guess.isalpha():\n",
    "            index = 0\n",
    "            for c in user_guess:\n",
    "                #Correct place and character\n",
    "                if c == word_choice[index]: \n",
    "                    print(c, end=\" \")\n",
    "                    if c in wrong_location: \n",
    "                        wrong_location.remove(c)\n",
    "                #Correct character, wrong location\n",
    "                elif c in word_choice: \n",
    "                    if c not in wrong_location:\n",
    "                        wrong_location.append(c)\n",
    "                    print(\"_\", end=\" \")\n",
    "                #Wrong Character\n",
    "                else:\n",
    "                    if c not in word_choice:\n",
    "                        wrong_letter.append(c)\n",
    "                    print(\"_\", end=\" \")\n",
    "                index += 1\n",
    "            \n",
    "            turns_taken += 1\n",
    "            print(\"\\n\")\n",
    "            print('Incorrect Location: ', wrong_location)\n",
    "            print('Incorrect Letters: ', wrong_letter)\n",
    "            print(\"You have\", turns_max - turns_taken, \"turns left.\")\n",
    "            \n",
    "            if user_guess == word_choice:\n",
    "                print('YOU ARE THE WINNER!')\n",
    "                break\n",
    "            \n",
    "            if turns_taken == turns_max:\n",
    "                print('You have run out of guesses. The correct answer was: ', word_choice)\n",
    "                break\n",
    "        else:\n",
    "            print('Please only enter letters') \n",
    "            \n",
    "    elif len(user_guess) != 5:\n",
    "        if user_guess.isalpha():\n",
    "            print('The word is only 5 characters') \n",
    "            \n",
    "        else:\n",
    "            print('Please only enter letters') \n",
    "          \n",
    "        \n",
    "        \n",
    "\n",
    "  \n"
   ]
  },
  {
   "cell_type": "code",
   "execution_count": null,
   "metadata": {},
   "outputs": [],
   "source": []
  }
 ],
 "metadata": {
  "kernelspec": {
   "display_name": "Python 3 (ipykernel)",
   "language": "python",
   "name": "python3"
  },
  "language_info": {
   "codemirror_mode": {
    "name": "ipython",
    "version": 3
   },
   "file_extension": ".py",
   "mimetype": "text/x-python",
   "name": "python",
   "nbconvert_exporter": "python",
   "pygments_lexer": "ipython3",
   "version": "3.10.6"
  }
 },
 "nbformat": 4,
 "nbformat_minor": 4
}
